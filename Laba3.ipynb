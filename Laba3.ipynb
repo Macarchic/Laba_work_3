{
 "cells": [
  {
   "cell_type": "code",
   "execution_count": 1,
   "id": "d4edfea6-c558-44ba-a232-7cab5d05fca6",
   "metadata": {},
   "outputs": [],
   "source": [
    "import numpy as np\n",
    "import math\n",
    "import scripts as sc\n",
    "O = 0.7\n",
    "C = 0.78\n",
    "H = 0.35\n",
    "N = 0.71\n",
    "P = 1.08"
   ]
  },
  {
   "cell_type": "markdown",
   "id": "6aeba979-ea41-4ec5-af3e-5a371f1b36ce",
   "metadata": {},
   "source": [
    "**Read the file and save all data**"
   ]
  },
  {
   "cell_type": "code",
   "execution_count": 2,
   "id": "48745359-8f95-457a-ac79-96f9606e8b42",
   "metadata": {},
   "outputs": [],
   "source": [
    "with open('Task3.pdb', 'r') as file:\n",
    "    lines = file.readlines()"
   ]
  },
  {
   "cell_type": "markdown",
   "id": "7354eb05-0ae3-410f-9896-2e4ebb475e4f",
   "metadata": {},
   "source": [
    "**FIND EXACT PART IN FILE(our variant)**"
   ]
  },
  {
   "cell_type": "code",
   "execution_count": 3,
   "id": "ca6bf3ee-2307-4973-83f7-f417097c95db",
   "metadata": {},
   "outputs": [],
   "source": [
    "task3_array = []\n",
    "index = 0\n",
    "\n",
    "while True:\n",
    "    if 'MO' in lines[index]:\n",
    "        if \"13\" in lines[index]:\n",
    "            index += 3\n",
    "            break\n",
    "    index += 82"
   ]
  },
  {
   "cell_type": "markdown",
   "id": "6fb75e7f-a53e-4d08-95fc-ffd0ea745887",
   "metadata": {},
   "source": [
    "**Заповнюємо наш головний масив саме нашим 13 варіантом**"
   ]
  },
  {
   "cell_type": "code",
   "execution_count": 4,
   "id": "27fad860-aef2-409f-bd7f-b1225f534031",
   "metadata": {
    "scrolled": true
   },
   "outputs": [],
   "source": [
    "while lines[index][0] != 'C':\n",
    "    task3_array.append(lines[index].split())\n",
    "    index += 1"
   ]
  },
  {
   "cell_type": "markdown",
   "id": "71e7d172-e25d-4a95-947f-c29eb11a019b",
   "metadata": {},
   "source": [
    "**Created a separate array with the names of DNA skeletal atoms and their coordinates**"
   ]
  },
  {
   "cell_type": "code",
   "execution_count": 5,
   "id": "fa825e38-182d-4c33-b78e-7ef0c1901f82",
   "metadata": {},
   "outputs": [],
   "source": [
    "special_atom_names_with_coordinates = [0]*9\n",
    "needed_atoms = [\"O3'1\", \"P2\", \"O5'2\", \"C5'2\", \"C4'2\", \"C3'2\", \"C5'1\", \"C4'1\", \"C3'1\"]"
   ]
  },
  {
   "cell_type": "markdown",
   "id": "f57aecd6-3515-4ce4-8407-9007cf91f35d",
   "metadata": {},
   "source": [
    "**Read the file and identify every needed atom**"
   ]
  },
  {
   "cell_type": "code",
   "execution_count": 6,
   "id": "494ab945-c694-46a7-878c-249746dd7994",
   "metadata": {},
   "outputs": [],
   "source": [
    "for index in range(len(task3_array)):\n",
    "    if task3_array[index][2][0:2] == \"C5\" and task3_array[index][4] == \"1\":\n",
    "        special_atom_names_with_coordinates[6] = [task3_array[index][2]+\"1\", task3_array[index][5], task3_array[index][6], task3_array[index][7]]\n",
    "    elif task3_array[index][2][0:2] == \"C4\" and task3_array[index][4] == \"1\":\n",
    "        special_atom_names_with_coordinates[7] = [task3_array[index][2]+\"1\", task3_array[index][5], task3_array[index][6], task3_array[index][7]]\n",
    "    elif task3_array[index][2][0:2] == \"C3\" and task3_array[index][4] == \"1\":\n",
    "        special_atom_names_with_coordinates[8] = [task3_array[index][2]+\"1\", task3_array[index][5], task3_array[index][6], task3_array[index][7]]\n",
    "    elif task3_array[index][2][0:2] == \"O3\" and task3_array[index][4] == \"1\":\n",
    "        special_atom_names_with_coordinates[0] = [task3_array[index][2]+\"1\", task3_array[index][5], task3_array[index][6], task3_array[index][7]]\n",
    "    elif task3_array[index][2] == \"P\" and task3_array[index][4] == \"2\":\n",
    "        special_atom_names_with_coordinates[1] = [task3_array[index][2]+\"2\", task3_array[index][5], task3_array[index][6], task3_array[index][7]]\n",
    "    elif task3_array[index][2] == \"O5'\" and task3_array[index][4] == \"2\":\n",
    "        special_atom_names_with_coordinates[2] = [task3_array[index][2]+\"2\", task3_array[index][5], task3_array[index][6], task3_array[index][7]]\n",
    "    elif task3_array[index][2] == \"C5'\" and task3_array[index][4] == \"2\":\n",
    "        special_atom_names_with_coordinates[3] = [task3_array[index][2]+\"2\", task3_array[index][5], task3_array[index][6], task3_array[index][7]]\n",
    "    elif task3_array[index][2] == \"C4'\" and task3_array[index][4] == \"2\":\n",
    "        special_atom_names_with_coordinates[4] = [task3_array[index][2]+\"2\", task3_array[index][5], task3_array[index][6], task3_array[index][7]]\n",
    "    elif task3_array[index][2] == \"C3'\" and task3_array[index][4] == \"2\":\n",
    "        special_atom_names_with_coordinates[5] = [task3_array[index][2]+\"2\", task3_array[index][5], task3_array[index][6], task3_array[index][7]]"
   ]
  },
  {
   "cell_type": "markdown",
   "id": "79f6eff0-abd9-49a9-87b3-a6d2d2dc9bd4",
   "metadata": {},
   "source": [
    "**Write needed dihedral angles**"
   ]
  },
  {
   "cell_type": "code",
   "execution_count": 7,
   "id": "3e421fb9-e2bb-4914-a9da-cacd2d822af2",
   "metadata": {},
   "outputs": [],
   "source": [
    "alpha = [\"O3'1\", \"P2\", \"O5'2\", \"C5'2\"]\n",
    "beta = [\"P2\", \"O5'2\", \"C5'2\", \"C4'2\"]\n",
    "gamma = [\"O5'2\", \"C5'2\", \"C4'2\", \"C3'2\"]\n",
    "delta = [\"C5'1\", \"C4'1\", \"C3'1\", \"O3'1\"]\n",
    "epsilon = [\"C4'1\", \"C3'1\", \"O3'1\", \"P2\"]\n",
    "zeta = [\"C3'1\", \"O3'1\", \"P2\", \"O5'2\"]\n",
    "angles = [alpha, beta, gamma, delta, epsilon, zeta]\n",
    "angles_names = [\"alpha\", \"beta\", \"gamma\", \"delta\", \"epsilon\", \"zeta\"]\n",
    "valent_angles = []"
   ]
  },
  {
   "cell_type": "markdown",
   "id": "6b981131-9d8b-4209-a95f-7da0939eb386",
   "metadata": {},
   "source": [
    "**Find valent angles**"
   ]
  },
  {
   "cell_type": "code",
   "execution_count": 8,
   "id": "2e5922cf-2a92-4193-ad79-8749525f48b8",
   "metadata": {},
   "outputs": [],
   "source": [
    "for i in range(0, 6):\n",
    "    valent_angles.append(sc.calculate_angle(angles[i], special_atom_names_with_coordinates, needed_atoms))"
   ]
  },
  {
   "cell_type": "markdown",
   "id": "e5de20f2-cdaa-4250-9697-948193fe36aa",
   "metadata": {},
   "source": [
    "**Find dihedral angles**"
   ]
  },
  {
   "cell_type": "code",
   "execution_count": 12,
   "id": "bbc5f5f7-35e2-49b9-b6aa-3b6aec8833f9",
   "metadata": {},
   "outputs": [],
   "source": [
    "ps = []\n",
    "tors_angles = []\n",
    "for i in range(0, 6):\n",
    "    ps.append(sc.Vector(angles[i], needed_atoms, special_atom_names_with_coordinates).result)\n",
    "for i in range(0,6):\n",
    "    tors_angles.append(sc.angle(sc.vector_cross(ps[i][0], ps[i][1]), sc.vector_cross(ps[i][1], ps[i][2])))\n",
    "    tors_angles[i] *= sc.adjusment(sc.vector_cross(ps[i][0], ps[i][1]), sc.vector_cross(ps[i][1], ps[i][2]), ps[i][1])"
   ]
  },
  {
   "cell_type": "markdown",
   "id": "41d6f6e8-ca9e-41a5-b901-1edb37996349",
   "metadata": {},
   "source": [
    "**Create alpha and phi matrixies for later manipulations**"
   ]
  },
  {
   "cell_type": "code",
   "execution_count": 14,
   "id": "083b2a30-1259-41f8-af02-ec237e0abf20",
   "metadata": {},
   "outputs": [],
   "source": [
    "alpha_matrixies = []\n",
    "for i in range(0, 6):\n",
    "    temp_matrix = np.array([\n",
    "        [-math.cos(valent_angles[i]*math.pi/180), -math.sin(valent_angles[i]*math.pi/180), 0],\n",
    "        [math.sin(valent_angles[i]*math.pi/180), -math.cos(valent_angles[i]*math.pi/180), 0],\n",
    "        [0, 0, 1]\n",
    "    ])\n",
    "\n",
    "    alpha_matrixies.append(temp_matrix)\n",
    "\n",
    "\n",
    "\n",
    "\n",
    "phi_matrixies = []\n",
    "for i in range(0, 6):\n",
    "    temp_matrix = np.array([\n",
    "    [1, 0, 0],\n",
    "    [0, math.cos(tors_angles[i]*math.pi/180), -math.sin(tors_angles[i]*math.pi/180)],\n",
    "    [0, math.sin(tors_angles[i]*math.pi/180), math.cos(tors_angles[i]*math.pi/180)]\n",
    "    ])\n",
    "    phi_matrixies.append(temp_matrix)"
   ]
  },
  {
   "cell_type": "markdown",
   "id": "3cb8e5c9-def3-44c8-891c-5f5e54f4eef2",
   "metadata": {},
   "source": [
    "**Multiply them**"
   ]
  },
  {
   "cell_type": "code",
   "execution_count": 15,
   "id": "a6a7f606-927f-4d0a-84da-ee4614ac7ec9",
   "metadata": {},
   "outputs": [],
   "source": [
    "A_matrix = alpha_matrixies[0]\n",
    "for i in range(0, 5):\n",
    "    A_matrix = np.dot(A_matrix, phi_matrixies[i])\n",
    "    A_matrix = np.dot(A_matrix, alpha_matrixies[i+1])\n",
    "A_matrix = np.dot(A_matrix, phi_matrixies[5])"
   ]
  },
  {
   "cell_type": "markdown",
   "id": "78af851a-859d-4334-aa85-393a8d5f84f9",
   "metadata": {},
   "source": [
    "**And now we find our angle \"theta\"**"
   ]
  },
  {
   "cell_type": "code",
   "execution_count": 20,
   "id": "a93bafd0-ec24-4e3a-bff8-17fdcfb9ce67",
   "metadata": {},
   "outputs": [
    {
     "name": "stdout",
     "output_type": "stream",
     "text": [
      "theta =  178.93893078094325\n"
     ]
    }
   ],
   "source": [
    "cos_theta_2 = (math.sqrt(1+A_matrix[0][0]+A_matrix[1][1] + A_matrix[2][2]))/2\n",
    "theta = np.arccos(cos_theta_2)*2\n",
    "print(\"theta = \", theta*180/math.pi)"
   ]
  },
  {
   "cell_type": "code",
   "execution_count": 23,
   "id": "ae019c6b-bac2-444b-ad4f-4c2f78677a54",
   "metadata": {},
   "outputs": [],
   "source": [
    "with open(\"results_of_laba3\", \"w\") as file:\n",
    "    file.write(\"theta = \" + str(theta*180/math.pi) + \"\\n\")"
   ]
  }
 ],
 "metadata": {
  "kernelspec": {
   "display_name": "Python 3 (ipykernel)",
   "language": "python",
   "name": "python3"
  },
  "language_info": {
   "codemirror_mode": {
    "name": "ipython",
    "version": 3
   },
   "file_extension": ".py",
   "mimetype": "text/x-python",
   "name": "python",
   "nbconvert_exporter": "python",
   "pygments_lexer": "ipython3",
   "version": "3.11.7"
  }
 },
 "nbformat": 4,
 "nbformat_minor": 5
}
